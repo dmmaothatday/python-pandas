{
 "cells": [
  {
   "cell_type": "code",
   "execution_count": null,
   "id": "e89eafa2",
   "metadata": {
    "is_executing": true
   },
   "outputs": [],
   "source": [
    "import pandas as pd"
   ]
  },
  {
   "cell_type": "code",
   "execution_count": 2,
   "id": "cdb1f284",
   "metadata": {},
   "outputs": [],
   "source": [
    "# a. Đọc dữ liệu từ Excel\n",
    "df_san_pham = pd.read_excel('DuLieuThucHanh2_V1.xlsx',sheet_name = 'San Pham')\n",
    "df_nhan_vien = pd.read_excel('DuLieuThucHanh2_V1.xlsx',sheet_name = 'Nhan Vien')\n",
    "df_hoa_don = pd.read_excel('DuLieuThucHanh2_V1.xlsx',sheet_name = 'Hoa Don')\n",
    "df_thong_tin = pd.read_excel('DuLieuThucHanh2_V1.xlsx',sheet_name = 'Thong Tin Hoa Don')"
   ]
  },
  {
   "cell_type": "code",
   "execution_count": null,
   "id": "5ccb0a85",
   "metadata": {
    "is_executing": true
   },
   "outputs": [],
   "source": [
    "# Hiển thị DataFrames\n",
    "print(df_san_pham)\n",
    "print(df_nhan_vien)\n",
    "print(df_hoa_don)\n",
    "print(df_thong_tin)"
   ]
  },
  {
   "cell_type": "code",
   "execution_count": null,
   "id": "b96d0005",
   "metadata": {
    "is_executing": true
   },
   "outputs": [],
   "source": [
    "# b. Tạo DataFrame mới với số lượng sản phẩm đã bán\n",
    "df_ban_hang = df_thong_tin.groupby('ID San Pham')['So Luong'].sum().reset_index()\n",
    "df_ban_hang = df_ban_hang.merge(df_san_pham[['ID San Pham', 'Ten']], on='ID San Pham')\n",
    "print(df_ban_hang)"
   ]
  },
  {
   "cell_type": "code",
   "execution_count": 5,
   "id": "4ac5219f",
   "metadata": {},
   "outputs": [
    {
     "name": "stdout",
     "output_type": "stream",
     "text": [
      "   ID San Pham  So Luong      Ten\n",
      "0            1         5  SP số 1\n",
      "1            2         5  SP số 2\n"
     ]
    }
   ],
   "source": [
    "# Sản phẩm bán chạy nhất\n",
    "best_selling = df_ban_hang[df_ban_hang['So Luong'] == df_ban_hang['So Luong'].max()]\n",
    "print(best_selling)"
   ]
  },
  {
   "cell_type": "code",
   "execution_count": null,
   "id": "556589eb",
   "metadata": {},
   "outputs": [],
   "source": []
  }
 ],
 "metadata": {
  "kernelspec": {
   "display_name": "Python 3 (ipykernel)",
   "language": "python",
   "name": "python3"
  },
  "language_info": {
   "codemirror_mode": {
    "name": "ipython",
    "version": 3
   },
   "file_extension": ".py",
   "mimetype": "text/x-python",
   "name": "python",
   "nbconvert_exporter": "python",
   "pygments_lexer": "ipython3",
   "version": "3.11.5"
  }
 },
 "nbformat": 4,
 "nbformat_minor": 5
}
